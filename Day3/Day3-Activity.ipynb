{
 "cells": [
  {
   "cell_type": "markdown",
   "metadata": {},
   "source": [
    "# UCLA ITS Data Camp, Day 3\n",
    "## Data Summarizing & Plotting"
   ]
  },
  {
   "cell_type": "markdown",
   "metadata": {},
   "source": [
    "For today's exercise, we are going to continue working through re-investigating some of the findings in the [Los Angeles Vision Zero Safety Study](https://view.joomag.com/vision-zero-safety-study/0065798001485405769?short) to see if anything has changed. Beyond summarizing data, we are going to explore turning tables into charts for beautiful visual presentation."
   ]
  },
  {
   "cell_type": "code",
   "execution_count": null,
   "metadata": {},
   "outputs": [],
   "source": [
    "# TODO: Import libraries (pandas)\n"
   ]
  },
  {
   "cell_type": "code",
   "execution_count": null,
   "metadata": {},
   "outputs": [],
   "source": [
    "# TODO: Read in all the collision/victim tables\n",
    "collisions = \n",
    "victims = "
   ]
  },
  {
   "cell_type": "code",
   "execution_count": null,
   "metadata": {},
   "outputs": [],
   "source": [
    "# TODO: Print out the column names\n"
   ]
  },
  {
   "cell_type": "markdown",
   "metadata": {},
   "source": [
    "##### Prep: Replace Victim Role\n",
    "For the first task, we are going to be creating a chart that shows the different number of fatalities by year and mode, which we can access in the `VICTIM_ROLE`. However, that only gives us a value that represents the mode. Let's replace that value (1-5) with the actual mode type. Consult the [SWITRS Codebook](https://peteraldhous.com/Data/ca_traffic/SWITRS_codebook.pdf) (look for Victim Role) and replace the numeric values with the string representation.\n",
    "\n",
    "To do this task, consult the [documentation](https://pandas.pydata.org/pandas-docs/stable/reference/api/pandas.DataFrame.replace.html) for Panda's `replace()` method. _Hint: we want to make sure we are only replacing the values in the `VICTIM_ROLE` column!_  "
   ]
  },
  {
   "cell_type": "code",
   "execution_count": null,
   "metadata": {},
   "outputs": [],
   "source": [
    "# TODO: Replace the VICTIM_ROLE with the actual values. Eg. Victim Role 1 = Driver, etc.\n",
    "victims = \n",
    "\n",
    "victims.head()"
   ]
  },
  {
   "cell_type": "markdown",
   "metadata": {},
   "source": [
    "### Exercise 1: Summarize Fatalities by Mode & Year, and Plot\n",
    "Yesterday we were able to count the number of fatalities by year. Today we are more interested in the question: are we making more progress on reducing fatalities for certain modes more than others?\n",
    "\n",
    "Pages 10 & 11 in the report feature a line chart showing the number of yearly fatalities by mode through 2016 (included below for your reference).\n",
    "\n",
    "![fatality_trendline](fatality_trendline.png)\n"
   ]
  },
  {
   "cell_type": "markdown",
   "metadata": {},
   "source": [
    "##### Step 1: Create a Pivot-Table (like Excel)\n",
    "Now that we have a general picture for how we are doing against our overall goal of eliminating traffic fatalities, let's drill down to see if there have been any trend changes when grouped by mode. Let's get the data into the format so we can easily recreate the chart above. \n",
    "\n",
    "Yesterday we showed you one way to group data, `groupby()` - here we are going to show you another way to group data using the pandas `pivot_table()` method. Take a look at the [documentation](https://pandas.pydata.org/pandas-docs/stable/reference/api/pandas.pivot_table.html#pandas.pivot_table) for some guidance. In our case, we want our columns to be the `VICTIM_ROLE` and our `aggfunc='size'`. Give it a shot figuring out the other two arguments."
   ]
  },
  {
   "cell_type": "code",
   "execution_count": null,
   "metadata": {},
   "outputs": [],
   "source": [
    "# TODO: 1) Filter to victims with fatal injuries, \n",
    "#       2) Pivot the table: Accident_Year as Index, Victim Role as columns, (take a stab at the other two args)\n",
    "#       3) Let's drop the 'Other' mode column using the df.drop() method\n",
    "#       You can try chaining the operations together!\n",
    "fatal_by_yearmode = \n",
    "\n",
    "# Examine the resulting table\n",
    "fatal_by_yearmode"
   ]
  },
  {
   "cell_type": "markdown",
   "metadata": {},
   "source": [
    "##### Step 2: Create HTML-based interactive plot\n",
    "Let's make a basic line chart from this data, using the `plotly` package. There are plenty of places to find different interactive charting libraries, like [here](https://mode.com/blog/python-data-visualization-libraries). I recommend checking out [plotly](https://plot.ly/pandas/getting-started/), which is incredibly easy to use. Make sure you install the package (plotly anaconda install [here](https://anaconda.org/plotly/plotly)) prior to using and consult the documentation for constructing a chart.\n",
    "\n",
    "_Hint: When we are using the pivot_table ouput, the x-axis is going to be the fatal_by_yearmode.index_"
   ]
  },
  {
   "cell_type": "code",
   "execution_count": null,
   "metadata": {},
   "outputs": [],
   "source": [
    "# Import package\n",
    "import plotly.graph_objects as go\n",
    "\n",
    "# Create the initial figure\n",
    "fig_fatals = go.Figure()\n",
    "\n",
    "# TODO: Let's follow the example from here -> https://plot.ly/python/line-charts/\n",
    "#       We are going to want to 'add_trace' for each of our victim modes\n",
    "\n",
    "\n",
    "# TODO: Edit the layout to add a title, xaxis_title, yaxis_title\n",
    "fig_fatals.update_layout(title='Fatalities by Mode',\n",
    "                         xaxis_title='Year',\n",
    "                         yaxis_title='Fatalities')\n",
    "# Show the final plot\n",
    "fig_fatals.show()"
   ]
  },
  {
   "cell_type": "markdown",
   "metadata": {},
   "source": [
    "##### Step 3: Export table\n",
    "Now that we have our data table, let's export it as a CSV to our `data/processed` folder."
   ]
  },
  {
   "cell_type": "code",
   "execution_count": null,
   "metadata": {},
   "outputs": [],
   "source": [
    "# TODO: Write out the table to CSV - don't drop the index this time\n"
   ]
  },
  {
   "cell_type": "markdown",
   "metadata": {},
   "source": [
    "##### Bonus Step\n",
    "You will notice that in the chart above we have 'motorcyles' as a mode, yet we don't see that in the collision table. Within SWITRS, motorycle is defined as a type of vehicle. We can get this distinction by joining to the party table and accessing the Vehicle Type attribute. Go ahead and give it a shot (note: you will need to read in the party table, which we have not yet done for this exercise)."
   ]
  },
  {
   "cell_type": "markdown",
   "metadata": {},
   "source": [
    "### Exercise 2: Map Fatal Collisions\n",
    "Are fatal collisions concentrated in some areas of the City? Let's find out by plotting all the fatal collisions on a map. \n",
    "\n",
    "Rather than creating static image plots, we will create interactive webmaps that we can view in our notebooks here or export for anyone else with a browser. Building these rich webmaps requires javascript, the programming language that powers interactivity within browsers. Within javascript, `leaflet` is the most common package for creating webmaps in browsers. Fortunately for us, the `folium` Python package provides us the bridge to `leaflet` so that we never have to leave Python. For some example uses of folium see the [QuickStart Jupyter Notebook](https://nbviewer.jupyter.org/github/python-visualization/folium/blob/master/examples/Quickstart.ipynb).\n",
    "\n",
    "Note: Before using folium we will need to install the package, since it is not part of the standard Anaconda library. To do so, follow the Anaconda install instructions on the [folium Github page](https://github.com/python-visualization/folium)."
   ]
  },
  {
   "cell_type": "code",
   "execution_count": null,
   "metadata": {},
   "outputs": [],
   "source": [
    "# TODO: Import folium (after installing)\n"
   ]
  },
  {
   "cell_type": "markdown",
   "metadata": {},
   "source": [
    "##### Step 1: Create the initial map object"
   ]
  },
  {
   "cell_type": "code",
   "execution_count": null,
   "metadata": {},
   "outputs": [],
   "source": [
    "# Initialize the map\n",
    "f_map = folium.Map(\n",
    "    \n",
    "    # Initial center of the map - You can change this!\n",
    "    location=[34.0689, -118.4452],\n",
    "    \n",
    "    # Basemap. See the Quickstart for more basemap ideas\n",
    "    tiles='OpenStreetMap',\n",
    "    \n",
    "    # Initial zoom level of the map\n",
    "    zoom_start=13\n",
    ")\n",
    "\n",
    "# Display the map in our notebook\n",
    "f_map"
   ]
  },
  {
   "cell_type": "markdown",
   "metadata": {},
   "source": [
    "##### Step 2: Filtering: Fatal Collisions, removing invalid coordinate pairs\n",
    "One of the problems that you will run into mapping these points is that not every collision has a valid coordinate pair. In some cases you will see null values and in other cases you will see coordinates = `[0,0]`"
   ]
  },
  {
   "cell_type": "code",
   "execution_count": null,
   "metadata": {},
   "outputs": [],
   "source": [
    "# TODO: Keep only fatal collisions\n",
    "#       Get rid of any rows with NaN or 0 values for POINT_X or POINT_Y\n",
    "fatal_collisions = \n",
    "\n",
    "len(fatal_collisions)"
   ]
  },
  {
   "cell_type": "markdown",
   "metadata": {},
   "source": [
    "##### Step 3: Add additional objects (such as markers) to the map"
   ]
  },
  {
   "cell_type": "code",
   "execution_count": null,
   "metadata": {},
   "outputs": [],
   "source": [
    "for ix, row in fatal_collisions.iterrows():\n",
    "    # TODO: For each row, create a marker object and add it to th emap\n",
    "    # Also, set the popup value to be the date of the collision\n",
    "    coord = [row.POINT_Y, row.POINT_X]\n",
    "    collision_date = row['COLLISION_DATE']\n",
    "    folium.Marker(coord, popup=collision_date).add_to(f_map)"
   ]
  },
  {
   "cell_type": "markdown",
   "metadata": {},
   "source": [
    "The cell below will display your map. If you are having difficulty loading all of the objects into your browser, reduce the number of points by filtering for a specific year."
   ]
  },
  {
   "cell_type": "code",
   "execution_count": null,
   "metadata": {},
   "outputs": [],
   "source": [
    "# Display the object-rich map in our notebook\n",
    "f_map"
   ]
  },
  {
   "cell_type": "markdown",
   "metadata": {},
   "source": [
    "### Bonus Challenge Exercise\n",
    "Make the map a bit for visually appealing by changing the icons or basemap."
   ]
  }
 ],
 "metadata": {
  "kernelspec": {
   "display_name": "Python 3",
   "language": "python",
   "name": "python3"
  },
  "language_info": {
   "codemirror_mode": {
    "name": "ipython",
    "version": 3
   },
   "file_extension": ".py",
   "mimetype": "text/x-python",
   "name": "python",
   "nbconvert_exporter": "python",
   "pygments_lexer": "ipython3",
   "version": "3.7.3"
  }
 },
 "nbformat": 4,
 "nbformat_minor": 2
}
