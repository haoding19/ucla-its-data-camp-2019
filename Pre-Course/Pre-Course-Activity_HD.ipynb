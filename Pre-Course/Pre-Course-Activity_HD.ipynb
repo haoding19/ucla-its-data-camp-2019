{
 "cells": [
  {
   "cell_type": "markdown",
   "metadata": {},
   "source": [
    "# UCLA ITS Data Camp, Pre-Course Exercise\n",
    "## Getting Data\n",
    "By now you should have a good understanding of the basics of the Python programming language and be familiar with the following concepts:\n",
    "- Core Object Types\n",
    "- Variables\n",
    "- Loops\n",
    "- Conditionals\n",
    "- Basic Functions\n",
    "- Data Structures (lists, dictionaries, etc)\n",
    "\n",
    "For the first activity, we will use this knowledge to practice the first step in any data project: acquiring data."
   ]
  },
  {
   "cell_type": "markdown",
   "metadata": {},
   "source": [
    "### Course Exercise Format\n",
    "Course **lectures** will consist of complete notebooks that we step through together as a class to understand how different inputs produce different outputs. Course **exercises** will consist of incomplete notebooks that you will complete on your own (you may ask others / myself for hints if you get stumped). \n",
    "\n",
    "The part of each exercise that needs to be completed will be marked with a `TODO` comment. If there is no `TODO`, then you should be able to run the cell without making any changes. For example, in the first code cell below, you will see that the csv library has already been imported for you; there is no `TODO` above the `import` line. However, the `TODO` two lines below specifies that you will need to complete the code to import each collision table using the [csv](https://docs.python.org/3/library/csv.html) library."
   ]
  },
  {
   "cell_type": "markdown",
   "metadata": {},
   "source": [
    "### Loading Data from Text Files\n",
    "One of the most common ways to bring data into your project is by reading in plain-text files. Let's practice downloading data and opening it using Python's built-in `csv` module.\n",
    "\n",
    "##### Step 1: Create a Project Directory\n",
    "Create a basic project directory structure, similar to what was described in \"Considerations for Data Projects\", and have this notebook reside in the top-level, like this:\n",
    "\n",
    "```\n",
    "pre-course-prj/                     \n",
    "├── data/                        \n",
    "├── output/                      \n",
    "└── Pre-Course Activity.ipynb    \n",
    "```\n",
    "##### Step 2: Download Collisions from LA City's GeoHub\n",
    "The City of Los Angeles has an Open Data Portal specifically focused on spatial datasets, the GeoHub. As part of the City's initiative to end traffic deaths, called [Vision Zero](http://visionzero.lacity.org/), it recently posted updated data on traffic collisions within City boundaries. \n",
    "\n",
    "1. Go to each of the following links for collision data between 2009 and 2013: [Collisions](http://visionzero.geohub.lacity.org/datasets/ladot::collisions-2009-2013-switrs), [Parties](http://visionzero.geohub.lacity.org/datasets/ladot::party-tables-collisions-2009-2013-switrs), and [Victims](http://visionzero.geohub.lacity.org/datasets/ladot::victim-tables-collisions-2009-2013-switrs).\n",
    "\n",
    "2. For each data source, click on \"Download\" and then \"Spreadsheet.\"\n",
    "\n",
    "3. Put all three collision layers into the \"data\" folder.\n",
    "\n",
    "##### Step 3: Read-in the Collision Data"
   ]
  },
  {
   "cell_type": "code",
   "execution_count": 3,
   "metadata": {},
   "outputs": [],
   "source": [
    "# Import packages\n",
    "import csv\n",
    "import pandas as pd\n",
    "\n",
    "# TODO: Read in collision data (all 3 CSV tables)\n",
    "collisions = pd.read_csv('data/Collisions_20092013_SWITRS.csv')\n",
    "parties = pd.read_csv('data/Party_Tables__Collisions_20092013_SWITRS.csv')\n",
    "victims = pd.read_csv('data/Victim_Tables__Collisions_20092013_SWITRS.csv')"
   ]
  },
  {
   "cell_type": "code",
   "execution_count": 4,
   "metadata": {},
   "outputs": [
    {
     "name": "stdout",
     "output_type": "stream",
     "text": [
      "The collision table has 173714 records.\n",
      "The party table has 937672 records.\n",
      "The victim table has 576617 records.\n"
     ]
    }
   ],
   "source": [
    "# TODO: Complete the function to return a record count for each table. Don't count the header row!\n",
    "def record_count(my_list):\n",
    "    return my_list.shape[0]\n",
    "\n",
    "    \n",
    "# Run record_count() on the three tables. Which has the most records?\n",
    "collision_record_ct = record_count(collisions)\n",
    "party_record_ct = record_count(parties)\n",
    "victim_record_ct = record_count(victims)\n",
    "\n",
    "# Print out the results. Which has the most records?\n",
    "print(f\"The collision table has {collision_record_ct} records.\")\n",
    "print(f\"The party table has {party_record_ct} records.\")\n",
    "print(f\"The victim table has {victim_record_ct} records.\")"
   ]
  },
  {
   "cell_type": "code",
   "execution_count": 5,
   "metadata": {},
   "outputs": [
    {
     "data": {
      "text/plain": [
       "(173714, 89)"
      ]
     },
     "execution_count": 5,
     "metadata": {},
     "output_type": "execute_result"
    }
   ],
   "source": [
    "collisions.shape"
   ]
  },
  {
   "cell_type": "code",
   "execution_count": 6,
   "metadata": {},
   "outputs": [
    {
     "data": {
      "text/plain": [
       "173714"
      ]
     },
     "execution_count": 6,
     "metadata": {},
     "output_type": "execute_result"
    }
   ],
   "source": [
    "collision_record_ct"
   ]
  },
  {
   "cell_type": "markdown",
   "metadata": {},
   "source": [
    "### Loading Data from Python Packages\n",
    "Another method for obtaining data is through Python packages themselves. \n",
    "\n",
    "##### Step 1: Install package (if needed)\n",
    "Let's get [OpenStreetMap](https://www.openstreetmap.org) network data using Geoff Boeing's wonderful [osmnx](https://github.com/gboeing/osmnx) package. However, before we start, we are going to need to install `osmnx` since it is not included in either the Python standard library nor within the Anaconda distribution of Python. \n",
    "\n",
    "_Note: Following the conda ox environment instructions on the osmnx page you will likely get an error with the gdal installation as a result of a recent change in the build. Follow the instructions below to get a successful setup_\n",
    "\n",
    "1. Open the Anaconda Prompt\n",
    "2. Install geopandas (it contains all the same dependencies) via `conda install -c conda-forge geopandas`\n",
    "3. Install osmnx via pip (since we have already installed the dependencies) via `python -m pip install osmnx`\n",
    "\n",
    "You should now be able to run the code below successfully without GDAL setup errors.\n"
   ]
  },
  {
   "cell_type": "markdown",
   "metadata": {},
   "source": [
    "##### Step 2: Import package within project\n",
    "Although we have installed the python package, we cannot yet use it until we import it within our project's environment. You can confirm the installation is successful by running the cells below to import the package. _A note about importing packages: You only need to import the python package once each time during each Python session. Once you close the notebook (and therefore shut down the python kernel), you will need to import the packages again the next time you start the notebook._\n",
    "\n",
    "##### Step 3: Read Documentation for Specific Functions to download data\n",
    "Once you've imported the package, check the package-specific documentation for how to download data. Let's start by getting some street network files for an area of your choosing by following the example [here](https://github.com/gboeing/osmnx-examples/blob/master/notebooks/02-example-osm-to-shapefile.ipynb). "
   ]
  },
  {
   "cell_type": "code",
   "execution_count": 5,
   "metadata": {
    "scrolled": true
   },
   "outputs": [
    {
     "data": {
      "text/html": [
       "<div>\n",
       "<style scoped>\n",
       "    .dataframe tbody tr th:only-of-type {\n",
       "        vertical-align: middle;\n",
       "    }\n",
       "\n",
       "    .dataframe tbody tr th {\n",
       "        vertical-align: top;\n",
       "    }\n",
       "\n",
       "    .dataframe thead th {\n",
       "        text-align: right;\n",
       "    }\n",
       "</style>\n",
       "<table border=\"1\" class=\"dataframe\">\n",
       "  <thead>\n",
       "    <tr style=\"text-align: right;\">\n",
       "      <th></th>\n",
       "      <th>bbox_east</th>\n",
       "      <th>bbox_north</th>\n",
       "      <th>bbox_south</th>\n",
       "      <th>bbox_west</th>\n",
       "      <th>geometry</th>\n",
       "      <th>place_name</th>\n",
       "    </tr>\n",
       "  </thead>\n",
       "  <tbody>\n",
       "    <tr>\n",
       "      <th>0</th>\n",
       "      <td>-118.443426</td>\n",
       "      <td>34.05056</td>\n",
       "      <td>33.966658</td>\n",
       "      <td>-118.553468</td>\n",
       "      <td>POLYGON ((-118.5534678 33.9843349, -118.548415...</td>\n",
       "      <td>Santa Monica, Los Angeles County, California, USA</td>\n",
       "    </tr>\n",
       "  </tbody>\n",
       "</table>\n",
       "</div>"
      ],
      "text/plain": [
       "    bbox_east  bbox_north  bbox_south   bbox_west  \\\n",
       "0 -118.443426    34.05056   33.966658 -118.553468   \n",
       "\n",
       "                                            geometry  \\\n",
       "0  POLYGON ((-118.5534678 33.9843349, -118.548415...   \n",
       "\n",
       "                                          place_name  \n",
       "0  Santa Monica, Los Angeles County, California, USA  "
      ]
     },
     "execution_count": 5,
     "metadata": {},
     "output_type": "execute_result"
    }
   ],
   "source": [
    "# TODO: Import the newly-installed osmnx package\n",
    "import osmnx as ox\n",
    "%matplotlib inline\n",
    "ox.config(log_console=True, use_cache=True)\n",
    "ox.__version__\n",
    "\n",
    "# TODO: Get some amount of data\n",
    "# from some place name, create a GeoDataFrame containing the geometry of the place\n",
    "city = ox.gdf_from_place('Santa Monica, California, USA')\n",
    "city"
   ]
  },
  {
   "cell_type": "code",
   "execution_count": 8,
   "metadata": {},
   "outputs": [
    {
     "data": {
      "image/png": "[encoded data removed]",
      "text/plain": [
       "<Figure size 432x432 with 1 Axes>"
      ]
     },
     "metadata": {
      "needs_background": "light"
     },
     "output_type": "display_data"
    }
   ],
   "source": [
    "# save the retrieved data as a shapefile\n",
    "ox.save_gdf_shapefile(city)\n",
    "\n",
    "# project the geometry to the appropriate UTM zone (calculated automatically) then plot it\n",
    "city = ox.project_gdf(city)\n",
    "fig, ax = ox.plot_shape(city)"
   ]
  },
  {
   "cell_type": "markdown",
   "metadata": {},
   "source": [
    "##### Step 4. Export as a shapefile to the 'output' project directory\n",
    "The Shapefile format is one of the most common data formats for storing GIS data. Developed by ESRI, it is actually a collection of different files (usually about six) that contain the vector data, attribute infomation, projection, and other data. Take a look at [this notebook](https://github.com/gboeing/osmnx-examples/blob/master/notebooks/05-example-save-load-networks-shapes.ipynb) for an example of how to export data from osmnx to the Shapefile format for storage. Export the data you downloaded into the 'output' folder."
   ]
  },
  {
   "cell_type": "code",
   "execution_count": 40,
   "metadata": {},
   "outputs": [
    {
     "name": "stdout",
     "output_type": "stream",
     "text": [
      "Successfully created the directory output \n"
     ]
    }
   ],
   "source": [
    "#creating directory 'output'\n",
    "\n",
    "import os\n",
    "\n",
    "path = 'output'\n",
    "\n",
    "try:\n",
    "    os.mkdir(path)\n",
    "except OSError:\n",
    "    print (\"Creation of the directory %s failed\" % path)\n",
    "else:\n",
    "    print (\"Successfully created the directory %s \" % path)"
   ]
  },
  {
   "cell_type": "code",
   "execution_count": 9,
   "metadata": {},
   "outputs": [],
   "source": [
    "# TODO: Export to disk as a shapefile into the 'output' folder\n",
    "city.to_file('output/santa_monica')"
   ]
  },
  {
   "cell_type": "markdown",
   "metadata": {},
   "source": [
    "##### Step 5. Confirm that you exported the shapefile correctly\n",
    "There is an excellent website for quickly checking spatial data called [mapshaper](https://mapshaper.org/). If your file is not too big, try to view it here. Either drop your .shp file into the browser or use the file navigator in the window to point to your 'output' folder. "
   ]
  }
 ],
 "metadata": {
  "kernelspec": {
   "display_name": "Python 3",
   "language": "python",
   "name": "python3"
  },
  "language_info": {
   "codemirror_mode": {
    "name": "ipython",
    "version": 3
   },
   "file_extension": ".py",
   "mimetype": "text/x-python",
   "name": "python",
   "nbconvert_exporter": "python",
   "pygments_lexer": "ipython3",
   "version": "3.7.3"
  }
 },
 "nbformat": 4,
 "nbformat_minor": 2
}
