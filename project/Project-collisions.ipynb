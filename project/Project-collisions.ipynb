{
 "cells": [
  {
   "cell_type": "code",
   "execution_count": 5,
   "metadata": {},
   "outputs": [
    {
     "name": "stdout",
     "output_type": "stream",
     "text": [
      "creations of directory output failed\n"
     ]
    }
   ],
   "source": [
    "import os\n",
    "\n",
    "path = 'output'\n",
    "\n",
    "try:\n",
    "    os.mkdir(path)\n",
    "except OSError:\n",
    "    print('creations of directory %s failed' % path)\n",
    "else:\n",
    "    print('successfully created directory %s' % path)"
   ]
  },
  {
   "cell_type": "markdown",
   "metadata": {},
   "source": [
    "## Collisions-who's at fault"
   ]
  },
  {
   "cell_type": "code",
   "execution_count": 6,
   "metadata": {},
   "outputs": [],
   "source": [
    "# reading collisions, parties, victims tables\n",
    "\n",
    "import pandas as pd\n",
    "\n",
    "collisions = pd.read_csv('data/raw/Collisions_20092013_SWITRS.csv')\n",
    "parties = pd.read_csv('data/raw/Party_Tables__Collisions_20092013_SWITRS.csv')\n",
    "victims = pd.read_csv('data/raw/Victim_Tables__Collisions_20092013_SWITRS.csv')"
   ]
  },
  {
   "cell_type": "code",
   "execution_count": 11,
   "metadata": {},
   "outputs": [
    {
     "data": {
      "text/plain": [
       "Index(['OBJECTID', 'CASE_ID', 'PARTY_NUMBER', 'VICTIM_ROLE', 'VICTIM_SEX',\n",
       "       'VICTIM_AGE', 'VICTIM_DEGREE_OF_INJURY', 'VICTIM_SEATING_POSITION',\n",
       "       'VICTIM_SAFETY_EQUIP_1', 'VICTIM_SAFETY_EQUIP_2', 'VICTIM_EJECTED',\n",
       "       'ACCIDENT_YEAR'],\n",
       "      dtype='object')"
      ]
     },
     "execution_count": 11,
     "metadata": {},
     "output_type": "execute_result"
    }
   ],
   "source": [
    "victims.columns"
   ]
  },
  {
   "cell_type": "code",
   "execution_count": 12,
   "metadata": {},
   "outputs": [
    {
     "data": {
      "text/plain": [
       "Index(['OBJECTID', 'CASE_ID', 'PARTY_NUMBER', 'PARTY_TYPE', 'AT_FAULT',\n",
       "       'PARTY_SEX', 'PARTY_AGE', 'PARTY_SOBRIETY', 'PARTY_DRUG_PHYSICAL',\n",
       "       'DIR_OF_TRAVEL', 'PARTY_SAFETY_EQUIP_1', 'PARTY_SAFETY_EQUIP_2',\n",
       "       'FINAN_RESPONS', 'SP_INFO_1', 'SP_INFO_2', 'SP_INFO_3',\n",
       "       'OAF_VIOLATION_CODE', 'OAF_VIOL_CAT', 'OAF_VIOL_SECTION',\n",
       "       'OAF_VIOLATION_SUFFIX', 'OAF_1', 'OAF_2', 'PARTY_NUMBER_KILLED',\n",
       "       'PARTY_NUMBER_INJURED', 'MOVE_PRE_ACC', 'VEHICLE_YEAR', 'VEHICLE_MAKE',\n",
       "       'STWD_VEHICLE_TYPE', 'CHP_VEH_TYPE_TOWING', 'CHP_VEH_TYPE_TOWED',\n",
       "       'RACE', 'INATTENTION', 'SPECIAL_INFO_F', 'SPECIAL_INFO_G',\n",
       "       'ACCIDENT_YEAR'],\n",
       "      dtype='object')"
      ]
     },
     "execution_count": 12,
     "metadata": {},
     "output_type": "execute_result"
    }
   ],
   "source": [
    "parties.columns"
   ]
  },
  {
   "cell_type": "code",
   "execution_count": 13,
   "metadata": {},
   "outputs": [
    {
     "data": {
      "text/plain": [
       "Index(['X', 'Y', 'OBJECTID', 'CASE_ID', 'ACCIDENT_YEAR', 'PROCDATE', 'JURIS',\n",
       "       'COLLISION_DATE', 'COLLISION_TIME', 'OFFICER_ID', 'REPORTING_DISTRICT',\n",
       "       'DAY_OF_WEEK', 'SHIFT', 'POPULATION', 'CNTY_CITY_LOC', 'SPECIAL_COND',\n",
       "       'BEAT_TYPE', 'CHP_BEAT_TYPE', 'CITY_DIVISION_LAPD', 'CHP_BEAT_CLASS',\n",
       "       'BEATNUMB', 'PRIMARY_RD', 'SECONDARY_RD', 'DISTANCE', 'DIRECTION',\n",
       "       'INTERSECTION', 'WEATHER_1', 'WEATHER_2', 'STATE_HWY_IND',\n",
       "       'CALTRANS_COUNTY', 'CALTRANS_DISTRICT', 'STATE_ROUTE', 'ROUTE_SUFFIX',\n",
       "       'POSTMILE_PREFIX', 'POSTMILE', 'LOCATION_TYPE', 'RAMP_INTERSECTION',\n",
       "       'SIDE_OF_HWY', 'TOW_AWAY', 'COLLISION_SEVERITY', 'NUMBER_KILLED',\n",
       "       'NUMBER_INJURED', 'PARTY_COUNT', 'PRIMARY_COLL_FACTOR', 'PCF_CODE_VIOL',\n",
       "       'PCF_VIOL_CATEGORY', 'PCF_VIOLATION', 'PCF_VIOL_SUBSECTION',\n",
       "       'HIT_AND_RUN', 'TYPE_OF_COLLISION', 'MVIW', 'PED_ACTION',\n",
       "       'ROAD_SURFACE', 'ROAD_COND_1', 'ROAD_COND_2', 'LIGHTING',\n",
       "       'CONTROL_DEVICE', 'CHP_ROAD_TYPE', 'PEDESTRIAN_ACCIDENT',\n",
       "       'BICYCLE_ACCIDENT', 'MOTORCYCLE_ACCIDENT', 'TRUCK_ACCIDENT',\n",
       "       'NOT_PRIVATE_PROPERTY', 'ALCOHOL_INVOLVED', 'STWD_VEHTYPE_AT_FAULT',\n",
       "       'CHP_VEHTYPE_AT_FAULT', 'COUNT_SEVERE_INJ', 'COUNT_VISIBLE_INJ',\n",
       "       'COUNT_COMPLAIN_PAIN', 'COUNT_PED_KILLED', 'COUNT_PED_INJURED',\n",
       "       'COUNT_BICYCLIST_KILLED', 'COUNT_BICYCLIST_INJURED', 'COUNT_MC_KILLED',\n",
       "       'COUNT_MC_INJURED', 'PRIMARY_RAMP', 'SECONDARY_RAMP', 'LATITUDE',\n",
       "       'LONGITUDE', 'TIMECAT', 'MONTH_', 'CITY', 'COUNTY', 'STATE', 'POINT_X',\n",
       "       'POINT_Y', 'Match_addr', 'm_primaryrd', 'm_secondrd'],\n",
       "      dtype='object')"
      ]
     },
     "execution_count": 13,
     "metadata": {},
     "output_type": "execute_result"
    }
   ],
   "source": [
    "collisions.columns"
   ]
  },
  {
   "cell_type": "code",
   "execution_count": 14,
   "metadata": {},
   "outputs": [],
   "source": [
    "collisions_parties = pd.merge(collisions, parties, on = 'CASE_ID')"
   ]
  },
  {
   "cell_type": "code",
   "execution_count": 26,
   "metadata": {},
   "outputs": [
    {
     "data": {
      "text/plain": [
       "N    205682\n",
       "Y    157927\n",
       "Name: AT_FAULT, dtype: int64"
      ]
     },
     "execution_count": 26,
     "metadata": {},
     "output_type": "execute_result"
    }
   ],
   "source": [
    "collisions_parties.AT_FAULT.value_counts()"
   ]
  },
  {
   "cell_type": "code",
   "execution_count": 40,
   "metadata": {},
   "outputs": [
    {
     "data": {
      "text/plain": [
       "M    161564\n",
       "F    105026\n",
       "-     97019\n",
       "Name: PARTY_SEX, dtype: int64"
      ]
     },
     "execution_count": 40,
     "metadata": {},
     "output_type": "execute_result"
    }
   ],
   "source": [
    "collisions_parties.PARTY_SEX.value_counts()"
   ]
  },
  {
   "cell_type": "code",
   "execution_count": 38,
   "metadata": {},
   "outputs": [
    {
     "data": {
      "text/plain": [
       "M    72976\n",
       "-    43995\n",
       "F    40956\n",
       "Name: PARTY_SEX, dtype: int64"
      ]
     },
     "execution_count": 38,
     "metadata": {},
     "output_type": "execute_result"
    }
   ],
   "source": [
    "collisions_parties_at_fault = collisions_parties[collisions_parties['AT_FAULT'] == 'Y']\n",
    "collisions_parties_at_fault.PARTY_SEX.value_counts()"
   ]
  },
  {
   "cell_type": "code",
   "execution_count": 39,
   "metadata": {},
   "outputs": [
    {
     "data": {
      "text/plain": [
       "M    88588\n",
       "F    64070\n",
       "-    53024\n",
       "Name: PARTY_SEX, dtype: int64"
      ]
     },
     "execution_count": 39,
     "metadata": {},
     "output_type": "execute_result"
    }
   ],
   "source": [
    "collisions_parties[collisions_parties['AT_FAULT'] == 'N'].PARTY_SEX.value_counts()"
   ]
  },
  {
   "cell_type": "code",
   "execution_count": 41,
   "metadata": {},
   "outputs": [
    {
     "data": {
      "text/plain": [
       "363609"
      ]
     },
     "execution_count": 41,
     "metadata": {},
     "output_type": "execute_result"
    }
   ],
   "source": [
    "len(collisions_parties)"
   ]
  },
  {
   "cell_type": "code",
   "execution_count": 44,
   "metadata": {},
   "outputs": [
    {
     "name": "stdout",
     "output_type": "stream",
     "text": [
      "At Fault       Yes      No    Total\n",
      "----------  ------  ------  -------\n",
      "Male         72976   88588   161564\n",
      "Female       40956   64070   105026\n",
      "Unstated     43995   53024    97019\n",
      "Total       157927  205682   363609\n"
     ]
    }
   ],
   "source": [
    "from tabulate import tabulate\n",
    "\n",
    "table = [['Male', 72976, 88588, 161564], ['Female', 40956, 64070, 105026], \n",
    "         ['Unstated', 43995, 53024, 97019 ], ['Total', 157927, 205682, 363609]]\n",
    "\n",
    "print(tabulate(table, headers = ['At Fault','Yes','No','Total']))"
   ]
  },
  {
   "cell_type": "code",
   "execution_count": null,
   "metadata": {},
   "outputs": [],
   "source": []
  }
 ],
 "metadata": {
  "kernelspec": {
   "display_name": "Python 3",
   "language": "python",
   "name": "python3"
  },
  "language_info": {
   "codemirror_mode": {
    "name": "ipython",
    "version": 3
   },
   "file_extension": ".py",
   "mimetype": "text/x-python",
   "name": "python",
   "nbconvert_exporter": "python",
   "pygments_lexer": "ipython3",
   "version": "3.7.3"
  }
 },
 "nbformat": 4,
 "nbformat_minor": 2
}
