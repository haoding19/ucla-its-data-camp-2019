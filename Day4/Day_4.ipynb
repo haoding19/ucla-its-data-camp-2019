{
 "cells": [
  {
   "cell_type": "markdown",
   "metadata": {},
   "source": [
    "# UCLA ITS Data Camp, Day 4\n",
    "## Capstone Exercise"
   ]
  },
  {
   "cell_type": "markdown",
   "metadata": {},
   "source": [
    "For today's exercise, we are going to wrap-up our work with collision data. Yesterday we were able to summarize different types of collisions within the City of Los Angeles. Today we will be able to show _where_ these collisions take place, as well as put together an initial action plan for focusing on improving intersections where there is a high incidence of severe and fatal injury."
   ]
  },
  {
   "cell_type": "markdown",
   "metadata": {},
   "source": [
    "### Course Summary Exercise: Identify Intersections for Targeted Improvements\n",
    "This exercise is intended to summarize all that we've learned in this course. We will use the same collision data that we've become familiar with to put together a short action plan for the City's [Vision Zero](http://visionzero.lacity.org/) effort to reduce traffic fatalities. One way we can start focusing our efforts is to look for intersections that have witnessed a high number of severe and fatal injuries (also known as KSIs), and prioritize those for engineering improvements. \n",
    "\n",
    "\n",
    "##### Step 1: Filter for KSIs within 200ft. of an intersection\n",
    "Most of the Vision Zero work is focused on both severe and fatal injury. The reason we broaden the focus to severe injury is because we recognize that it is often not the characteristics of the collision, but instead the victim, that determine whether a severe injury becomes fatal. Expanding our focus to severe and fatal injuries, we also have a larger dataset to use to help identify locations for possible improvement."
   ]
  },
  {
   "cell_type": "code",
   "execution_count": null,
   "metadata": {},
   "outputs": [],
   "source": [
    "# TODO: Filter for KSI collisions (severity = 1 or 2)\n",
    "ksi_collisions =\n",
    "\n",
    "# TODO: Filter for KSI collisions < 200 ft of an intersection\n",
    "ksi_collisions_200ft ="
   ]
  },
  {
   "cell_type": "code",
   "execution_count": null,
   "metadata": {},
   "outputs": [],
   "source": [
    "# TODO: Convert it to a GeoDataframe like this -> \n",
    "# https://geopandas.readthedocs.io/en/latest/gallery/create_geopandas_from_pandas.html\n",
    "\n",
    "# get the la city intersections shapefile from here ->\n",
    "# https://geohub.lacity.org/datasets/0372aa1fb42a4e29adb9caadcfb210bb_9"
   ]
  },
  {
   "cell_type": "markdown",
   "metadata": {},
   "source": [
    "##### Step 2: Create a function to get the nearest point\n",
    "Let's start with the following idea. We have one point (A), and we want to find the closest point (B) amongst several points in a GeoSeries such that the distance between A and B is shorter than any other combination of points. \n",
    "\n",
    "The simplest way to caluclate the distance between two points is by using the Haversine formula. However, since we are working with a GeoSeries, we can take advantage of some of the built-in functionality to calculate the distances between a point and many other points. Once we calculate all these distances, we will then want to find the point B with the minimum distance. Let's create a function to do just this. \n",
    "\n",
    "Hint: Take a look at [this SO question](https://gis.stackexchange.com/questions/222315/geopandas-find-nearest-point-in-other-dataframe) for a good place on where to start.\n"
   ]
  },
  {
   "cell_type": "code",
   "execution_count": null,
   "metadata": {},
   "outputs": [],
   "source": [
    "# TODO: Complete function to find the nearest point\n",
    "def nearest(point, geoseries):\n",
    "    "
   ]
  },
  {
   "cell_type": "markdown",
   "metadata": {},
   "source": [
    "##### Step 3: Using the new function, assign each KSI to the nearest intersection\n",
    "We now have\n",
    "1. KSI Collisions (GeoSeries)\n",
    "2. LA City Intersections (GeoSeries)\n",
    "3. A function that takes a point and finds the nearest point in a GeoSeries\n",
    "\n",
    "With these pieces, our goal is to apply our function to another GeoSeries so that for each KSI collision point we can tag it with the nearest intersection ID. To do this, we will be using the GeoPandas **apply** function to run our function for each point in the series."
   ]
  },
  {
   "cell_type": "code",
   "execution_count": null,
   "metadata": {},
   "outputs": [],
   "source": [
    "# TODO: Apply 'nearest' function to GeoSeries and save the ID\n",
    "#       of the nearest intersection to a field called 'NearestIntID' \n",
    "ksi_int_collisions ="
   ]
  },
  {
   "cell_type": "markdown",
   "metadata": {},
   "source": [
    "##### Step 3: Count KSIs per intersection \n",
    "We now have an additional column in our KSI collisions GeoSeries with the ID for the closest intersection. Using the skills you learned yesterday to summarize by an attribute, let's find the count of KSIs for each of the intersection IDs. "
   ]
  },
  {
   "cell_type": "code",
   "execution_count": null,
   "metadata": {},
   "outputs": [],
   "source": [
    "# TODO: Group by intersection ID\n",
    "intersection_ksi_ct ="
   ]
  },
  {
   "cell_type": "markdown",
   "metadata": {},
   "source": [
    "##### Step 4: Join back to Intersections GeoSeries\n",
    "Let's do an inner join with our original LA City Intersections GeoSeries to get the spatial information for the top intersections we are interested in."
   ]
  },
  {
   "cell_type": "code",
   "execution_count": null,
   "metadata": {},
   "outputs": [],
   "source": []
  },
  {
   "cell_type": "markdown",
   "metadata": {},
   "source": [
    "##### Step 5: Map our Target Intersections\n",
    "Using the same method from earlier for plotting points on a `leaflet` map with the `folium` package, let's plot all our top intersections as Markers. Customize the pop-up so that when you click on each marker it shows you the number of KSI collisions at that location."
   ]
  },
  {
   "cell_type": "code",
   "execution_count": null,
   "metadata": {},
   "outputs": [],
   "source": []
  },
  {
   "cell_type": "markdown",
   "metadata": {},
   "source": [
    "### Bonus Challenge Exercise\n",
    "Let's create a way to better immediately visualize the number of KSIs at an intersection. Instead of displaying a marker at each intersection, create a circle where the **_area_** is equal to some ratio of the total number of collisions at that intersection. You can set the ratio depending on the desired zoom level of the map you want to display."
   ]
  }
 ],
 "metadata": {
  "kernelspec": {
   "display_name": "Python 3",
   "language": "python",
   "name": "python3"
  },
  "language_info": {
   "codemirror_mode": {
    "name": "ipython",
    "version": 3
   },
   "file_extension": ".py",
   "mimetype": "text/x-python",
   "name": "python",
   "nbconvert_exporter": "python",
   "pygments_lexer": "ipython3",
   "version": "3.7.3"
  }
 },
 "nbformat": 4,
 "nbformat_minor": 2
}
